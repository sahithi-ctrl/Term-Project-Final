{
  "nbformat": 4,
  "nbformat_minor": 0,
  "metadata": {
    "colab": {
      "provenance": [],
      "machine_shape": "hm"
    },
    "kernelspec": {
      "name": "python3",
      "display_name": "Python 3"
    },
    "language_info": {
      "name": "python"
    }
  },
  "cells": [
    {
      "cell_type": "code",
      "execution_count": null,
      "metadata": {
        "id": "lc9ynKiqTL_x"
      },
      "outputs": [],
      "source": [
        "import pandas as pd\n",
        "from sklearn.model_selection import train_test_split\n",
        "import joblib\n",
        "from sklearn.feature_extraction.text import CountVectorizer"
      ]
    },
    {
      "cell_type": "code",
      "source": [
        "#Reading data from reddit dataset\n",
        "data = pd.read_csv('/content/Reddit_Data.xls')\n",
        "#df = DataFrame()\n",
        "data['clean_comment'] = data['clean_comment'].str.strip().str.lower()\n",
        "#df = pd.DataFrame(data)\n",
        "data = data.fillna('')\n"
      ],
      "metadata": {
        "id": "xbDpzDflTWE4"
      },
      "execution_count": null,
      "outputs": []
    },
    {
      "cell_type": "code",
      "source": [
        "data.head(20)"
      ],
      "metadata": {
        "colab": {
          "base_uri": "https://localhost:8080/",
          "height": 676
        },
        "id": "WLYWBNm0TWM8",
        "outputId": "75623753-5f91-46a4-99bd-1e46a9e9f1c3"
      },
      "execution_count": null,
      "outputs": [
        {
          "output_type": "execute_result",
          "data": {
            "text/plain": [
              "                                        clean_comment  category\n",
              "0   family mormon have never tried explain them th...         1\n",
              "1   buddhism has very much lot compatible with chr...         1\n",
              "2   seriously don say thing first all they won get...        -1\n",
              "3   what you have learned yours and only yours wha...         0\n",
              "4   for your own benefit you may want read living ...         1\n",
              "5   you should all sit down together and watch the...        -1\n",
              "6   was teens when discovered zen meditation was t...         1\n",
              "7                             jesus was zen meets jew         0\n",
              "8   there are two varieties christians dogmatic th...        -1\n",
              "9   dont worry about trying explain yourself just ...         1\n",
              "10  recently told family that buddhist live the bi...         1\n",
              "11  unto others you would have them unto you would...         1\n",
              "12  first understand that you are not anyway contr...         1\n",
              "13  recently heard similar question where person a...         1\n",
              "14  different times different cultures same point ...         1\n",
              "15             does evil include the lady pai chunked        -1\n",
              "16  our campaign has two suns one pelor the other ...         1\n",
              "17  technically you could argue that sobek evil wo...        -1\n",
              "18                                              zarus         0\n",
              "19                    blood and souls for lord arioch         0"
            ],
            "text/html": [
              "\n",
              "  <div id=\"df-46009d00-4820-4911-805c-7abef9dd2ccf\">\n",
              "    <div class=\"colab-df-container\">\n",
              "      <div>\n",
              "<style scoped>\n",
              "    .dataframe tbody tr th:only-of-type {\n",
              "        vertical-align: middle;\n",
              "    }\n",
              "\n",
              "    .dataframe tbody tr th {\n",
              "        vertical-align: top;\n",
              "    }\n",
              "\n",
              "    .dataframe thead th {\n",
              "        text-align: right;\n",
              "    }\n",
              "</style>\n",
              "<table border=\"1\" class=\"dataframe\">\n",
              "  <thead>\n",
              "    <tr style=\"text-align: right;\">\n",
              "      <th></th>\n",
              "      <th>clean_comment</th>\n",
              "      <th>category</th>\n",
              "    </tr>\n",
              "  </thead>\n",
              "  <tbody>\n",
              "    <tr>\n",
              "      <th>0</th>\n",
              "      <td>family mormon have never tried explain them th...</td>\n",
              "      <td>1</td>\n",
              "    </tr>\n",
              "    <tr>\n",
              "      <th>1</th>\n",
              "      <td>buddhism has very much lot compatible with chr...</td>\n",
              "      <td>1</td>\n",
              "    </tr>\n",
              "    <tr>\n",
              "      <th>2</th>\n",
              "      <td>seriously don say thing first all they won get...</td>\n",
              "      <td>-1</td>\n",
              "    </tr>\n",
              "    <tr>\n",
              "      <th>3</th>\n",
              "      <td>what you have learned yours and only yours wha...</td>\n",
              "      <td>0</td>\n",
              "    </tr>\n",
              "    <tr>\n",
              "      <th>4</th>\n",
              "      <td>for your own benefit you may want read living ...</td>\n",
              "      <td>1</td>\n",
              "    </tr>\n",
              "    <tr>\n",
              "      <th>5</th>\n",
              "      <td>you should all sit down together and watch the...</td>\n",
              "      <td>-1</td>\n",
              "    </tr>\n",
              "    <tr>\n",
              "      <th>6</th>\n",
              "      <td>was teens when discovered zen meditation was t...</td>\n",
              "      <td>1</td>\n",
              "    </tr>\n",
              "    <tr>\n",
              "      <th>7</th>\n",
              "      <td>jesus was zen meets jew</td>\n",
              "      <td>0</td>\n",
              "    </tr>\n",
              "    <tr>\n",
              "      <th>8</th>\n",
              "      <td>there are two varieties christians dogmatic th...</td>\n",
              "      <td>-1</td>\n",
              "    </tr>\n",
              "    <tr>\n",
              "      <th>9</th>\n",
              "      <td>dont worry about trying explain yourself just ...</td>\n",
              "      <td>1</td>\n",
              "    </tr>\n",
              "    <tr>\n",
              "      <th>10</th>\n",
              "      <td>recently told family that buddhist live the bi...</td>\n",
              "      <td>1</td>\n",
              "    </tr>\n",
              "    <tr>\n",
              "      <th>11</th>\n",
              "      <td>unto others you would have them unto you would...</td>\n",
              "      <td>1</td>\n",
              "    </tr>\n",
              "    <tr>\n",
              "      <th>12</th>\n",
              "      <td>first understand that you are not anyway contr...</td>\n",
              "      <td>1</td>\n",
              "    </tr>\n",
              "    <tr>\n",
              "      <th>13</th>\n",
              "      <td>recently heard similar question where person a...</td>\n",
              "      <td>1</td>\n",
              "    </tr>\n",
              "    <tr>\n",
              "      <th>14</th>\n",
              "      <td>different times different cultures same point ...</td>\n",
              "      <td>1</td>\n",
              "    </tr>\n",
              "    <tr>\n",
              "      <th>15</th>\n",
              "      <td>does evil include the lady pai chunked</td>\n",
              "      <td>-1</td>\n",
              "    </tr>\n",
              "    <tr>\n",
              "      <th>16</th>\n",
              "      <td>our campaign has two suns one pelor the other ...</td>\n",
              "      <td>1</td>\n",
              "    </tr>\n",
              "    <tr>\n",
              "      <th>17</th>\n",
              "      <td>technically you could argue that sobek evil wo...</td>\n",
              "      <td>-1</td>\n",
              "    </tr>\n",
              "    <tr>\n",
              "      <th>18</th>\n",
              "      <td>zarus</td>\n",
              "      <td>0</td>\n",
              "    </tr>\n",
              "    <tr>\n",
              "      <th>19</th>\n",
              "      <td>blood and souls for lord arioch</td>\n",
              "      <td>0</td>\n",
              "    </tr>\n",
              "  </tbody>\n",
              "</table>\n",
              "</div>\n",
              "      <button class=\"colab-df-convert\" onclick=\"convertToInteractive('df-46009d00-4820-4911-805c-7abef9dd2ccf')\"\n",
              "              title=\"Convert this dataframe to an interactive table.\"\n",
              "              style=\"display:none;\">\n",
              "        \n",
              "  <svg xmlns=\"http://www.w3.org/2000/svg\" height=\"24px\"viewBox=\"0 0 24 24\"\n",
              "       width=\"24px\">\n",
              "    <path d=\"M0 0h24v24H0V0z\" fill=\"none\"/>\n",
              "    <path d=\"M18.56 5.44l.94 2.06.94-2.06 2.06-.94-2.06-.94-.94-2.06-.94 2.06-2.06.94zm-11 1L8.5 8.5l.94-2.06 2.06-.94-2.06-.94L8.5 2.5l-.94 2.06-2.06.94zm10 10l.94 2.06.94-2.06 2.06-.94-2.06-.94-.94-2.06-.94 2.06-2.06.94z\"/><path d=\"M17.41 7.96l-1.37-1.37c-.4-.4-.92-.59-1.43-.59-.52 0-1.04.2-1.43.59L10.3 9.45l-7.72 7.72c-.78.78-.78 2.05 0 2.83L4 21.41c.39.39.9.59 1.41.59.51 0 1.02-.2 1.41-.59l7.78-7.78 2.81-2.81c.8-.78.8-2.07 0-2.86zM5.41 20L4 18.59l7.72-7.72 1.47 1.35L5.41 20z\"/>\n",
              "  </svg>\n",
              "      </button>\n",
              "      \n",
              "  <style>\n",
              "    .colab-df-container {\n",
              "      display:flex;\n",
              "      flex-wrap:wrap;\n",
              "      gap: 12px;\n",
              "    }\n",
              "\n",
              "    .colab-df-convert {\n",
              "      background-color: #E8F0FE;\n",
              "      border: none;\n",
              "      border-radius: 50%;\n",
              "      cursor: pointer;\n",
              "      display: none;\n",
              "      fill: #1967D2;\n",
              "      height: 32px;\n",
              "      padding: 0 0 0 0;\n",
              "      width: 32px;\n",
              "    }\n",
              "\n",
              "    .colab-df-convert:hover {\n",
              "      background-color: #E2EBFA;\n",
              "      box-shadow: 0px 1px 2px rgba(60, 64, 67, 0.3), 0px 1px 3px 1px rgba(60, 64, 67, 0.15);\n",
              "      fill: #174EA6;\n",
              "    }\n",
              "\n",
              "    [theme=dark] .colab-df-convert {\n",
              "      background-color: #3B4455;\n",
              "      fill: #D2E3FC;\n",
              "    }\n",
              "\n",
              "    [theme=dark] .colab-df-convert:hover {\n",
              "      background-color: #434B5C;\n",
              "      box-shadow: 0px 1px 3px 1px rgba(0, 0, 0, 0.15);\n",
              "      filter: drop-shadow(0px 1px 2px rgba(0, 0, 0, 0.3));\n",
              "      fill: #FFFFFF;\n",
              "    }\n",
              "  </style>\n",
              "\n",
              "      <script>\n",
              "        const buttonEl =\n",
              "          document.querySelector('#df-46009d00-4820-4911-805c-7abef9dd2ccf button.colab-df-convert');\n",
              "        buttonEl.style.display =\n",
              "          google.colab.kernel.accessAllowed ? 'block' : 'none';\n",
              "\n",
              "        async function convertToInteractive(key) {\n",
              "          const element = document.querySelector('#df-46009d00-4820-4911-805c-7abef9dd2ccf');\n",
              "          const dataTable =\n",
              "            await google.colab.kernel.invokeFunction('convertToInteractive',\n",
              "                                                     [key], {});\n",
              "          if (!dataTable) return;\n",
              "\n",
              "          const docLinkHtml = 'Like what you see? Visit the ' +\n",
              "            '<a target=\"_blank\" href=https://colab.research.google.com/notebooks/data_table.ipynb>data table notebook</a>'\n",
              "            + ' to learn more about interactive tables.';\n",
              "          element.innerHTML = '';\n",
              "          dataTable['output_type'] = 'display_data';\n",
              "          await google.colab.output.renderOutput(dataTable, element);\n",
              "          const docLink = document.createElement('div');\n",
              "          docLink.innerHTML = docLinkHtml;\n",
              "          element.appendChild(docLink);\n",
              "        }\n",
              "      </script>\n",
              "    </div>\n",
              "  </div>\n",
              "  "
            ]
          },
          "metadata": {},
          "execution_count": 3
        }
      ]
    },
    {
      "cell_type": "code",
      "source": [
        "# Split into training and testing data\n",
        "x = data['clean_comment']\n",
        "y = data['category']\n",
        "#x, y = df.CONTENT.fillna(' '), df.sentiment\n",
        "x, x_test, y, y_test = train_test_split(x,y,test_size=0.33)"
      ],
      "metadata": {
        "id": "s82mAs6uUJqH"
      },
      "execution_count": null,
      "outputs": []
    },
    {
      "cell_type": "code",
      "source": [
        "print (x)"
      ],
      "metadata": {
        "colab": {
          "base_uri": "https://localhost:8080/"
        },
        "id": "DwkYWp1sVNIj",
        "outputId": "6c112f92-6aa6-48ee-82d0-e47c6dbd48df"
      },
      "execution_count": null,
      "outputs": [
        {
          "output_type": "stream",
          "name": "stdout",
          "text": [
            "27466    please tweet the local kannada channels like t...\n",
            "10364    just last months have had uri attack then boyc...\n",
            "35203                              looks like porno parody\n",
            "3832                               この情報って、どうやって入手出来たのですか？？\n",
            "29341    world bank lends primarily for infrastructure ...\n",
            "                               ...                        \n",
            "8135     have question religious breakup and amity maha...\n",
            "18991    not expert indian history but aren muslims big...\n",
            "6456                                       holy fuck david\n",
            "30980                                      see from odisha\n",
            "14148    lol this looks like prom couple pic modi just ...\n",
            "Name: clean_comment, Length: 24956, dtype: object\n"
          ]
        }
      ]
    },
    {
      "cell_type": "code",
      "source": [
        "# Vectorizing text reviews to numbers\n",
        "vec = CountVectorizer(stop_words='english')\n",
        "x = vec.fit_transform(x).toarray()\n",
        "x_test = vec.transform(x_test).toarray()"
      ],
      "metadata": {
        "id": "1gjNHKBPVEYl"
      },
      "execution_count": null,
      "outputs": []
    },
    {
      "cell_type": "markdown",
      "source": [],
      "metadata": {
        "id": "gxfCVe0jYDFx"
      }
    },
    {
      "cell_type": "code",
      "source": [
        "#Implementing the model accuracy for Naive Bayes \n",
        "#Finalized this model\n",
        "from sklearn.naive_bayes import MultinomialNB\n",
        "model = MultinomialNB()\n",
        "model.fit(x_test,y_test)"
      ],
      "metadata": {
        "colab": {
          "base_uri": "https://localhost:8080/"
        },
        "id": "Qnhp05l-Uqd6",
        "outputId": "3dd3b156-9ebe-4046-aa58-de29c83dd703"
      },
      "execution_count": null,
      "outputs": [
        {
          "output_type": "execute_result",
          "data": {
            "text/plain": [
              "MultinomialNB()"
            ]
          },
          "metadata": {},
          "execution_count": 7
        }
      ]
    },
    {
      "cell_type": "code",
      "source": [
        "model.score(x_test,y_test)"
      ],
      "metadata": {
        "colab": {
          "base_uri": "https://localhost:8080/"
        },
        "id": "b9boOGxBrL26",
        "outputId": "8db40a43-9410-4f1f-dd95-50293654a020"
      },
      "execution_count": null,
      "outputs": [
        {
          "output_type": "execute_result",
          "data": {
            "text/plain": [
              "0.7009680305865127"
            ]
          },
          "metadata": {},
          "execution_count": 8
        }
      ]
    },
    {
      "cell_type": "code",
      "source": [
        "#Implementing the model accuracy for RandomForestClassifier\n",
        "#To compare the accuracy with previous Naive-Bayes Model\n",
        "#from sklearn.ensemble import RandomForestClassifier\n",
        "#rfc=RandomForestClassifier()\n",
        "#rfc.fit(x_test,y_test)\n"
      ],
      "metadata": {
        "id": "B2pCjiHMipyz"
      },
      "execution_count": null,
      "outputs": []
    },
    {
      "cell_type": "code",
      "source": [
        "#rfc.score(x_test, y_test)\n",
        "#Accuracy: 0.9991866\n"
      ],
      "metadata": {
        "id": "X0GfhpVoUqoM"
      },
      "execution_count": null,
      "outputs": []
    },
    {
      "cell_type": "code",
      "source": [
        "#Implementing the model accuracy for Logistic Regression\n",
        "#To compare the accuracy with previous RandomForestClassifier\n",
        "#from sklearn.linear_model import LogisticRegression\n",
        "#reg = LogisticRegression()\n",
        "#reg.fit(x_test,y_test)    "
      ],
      "metadata": {
        "id": "-y9oZfnqlg38"
      },
      "execution_count": null,
      "outputs": []
    },
    {
      "cell_type": "code",
      "source": [
        "#reg.score(x_test,y_test)\n",
        "#accuracy: 0.97250"
      ],
      "metadata": {
        "id": "TNbF-mF0lhC7"
      },
      "execution_count": null,
      "outputs": []
    },
    {
      "cell_type": "code",
      "source": [
        "#Implementing the model accuracy for Adaboostclassifier\n",
        "#To compare the accuracy with previous Logistic Regression Model\n",
        "#from sklearn.ensemble import AdaBoostClassifier\n",
        "#adb = AdaBoostClassifier(base_estimator = None)\n",
        "#adb.fit(x_test,y_test)"
      ],
      "metadata": {
        "id": "dED_W5kEoYED"
      },
      "execution_count": null,
      "outputs": []
    },
    {
      "cell_type": "code",
      "source": [
        "#adb.score(x_test,y_test)\n",
        "#accuracy: 0.688"
      ],
      "metadata": {
        "id": "4lLp_MUMoYMk"
      },
      "execution_count": null,
      "outputs": []
    },
    {
      "cell_type": "code",
      "source": [
        "model.predict(vec.transform(['This is amazing!']))"
      ],
      "metadata": {
        "colab": {
          "base_uri": "https://localhost:8080/"
        },
        "id": "QdMiXo6b5mZM",
        "outputId": "a09decf9-3169-4ff8-ff28-2f850245b7f9"
      },
      "execution_count": null,
      "outputs": [
        {
          "output_type": "execute_result",
          "data": {
            "text/plain": [
              "array([1])"
            ]
          },
          "metadata": {},
          "execution_count": 15
        }
      ]
    },
    {
      "cell_type": "code",
      "source": [
        "#Reddit credentials and data fetch\n",
        "!pip install praw\n",
        "import praw\n",
        "import pandas as pd\n",
        "\n",
        "# Define user agent\n",
        "user_agent = \"praw_scraper_1.0\"\n",
        "\n",
        "# Create an instance of reddit class\n",
        "reddit = praw.Reddit(username=\"sahithinallani\",\n",
        "                     password=\"99Sahithi99\",\n",
        "                     client_id=\"UVVmqCC0YddyVf446sfYeg\",\n",
        "                     client_secret=\"IKurXNLHSMRiGUS2Y-Z62X6ZBdihpw\",\n",
        "                     user_agent=user_agent\n",
        ")"
      ],
      "metadata": {
        "colab": {
          "base_uri": "https://localhost:8080/"
        },
        "id": "oFlF8jsH5Txu",
        "outputId": "355182a2-122f-442a-c8c2-df27566b2cbe"
      },
      "execution_count": null,
      "outputs": [
        {
          "output_type": "stream",
          "name": "stdout",
          "text": [
            "Collecting praw\n",
            "  Downloading praw-7.5.0-py3-none-any.whl (176 kB)\n",
            "\u001b[K     |████████████████████████████████| 176 kB 4.9 MB/s \n",
            "\u001b[?25hCollecting websocket-client>=0.54.0\n",
            "  Downloading websocket_client-1.3.2-py3-none-any.whl (54 kB)\n",
            "\u001b[K     |████████████████████████████████| 54 kB 2.6 MB/s \n",
            "\u001b[?25hCollecting prawcore<3,>=2.1\n",
            "  Downloading prawcore-2.3.0-py3-none-any.whl (16 kB)\n",
            "Collecting update-checker>=0.18\n",
            "  Downloading update_checker-0.18.0-py3-none-any.whl (7.0 kB)\n",
            "Requirement already satisfied: requests<3.0,>=2.6.0 in /usr/local/lib/python3.7/dist-packages (from prawcore<3,>=2.1->praw) (2.23.0)\n",
            "Requirement already satisfied: idna<3,>=2.5 in /usr/local/lib/python3.7/dist-packages (from requests<3.0,>=2.6.0->prawcore<3,>=2.1->praw) (2.10)\n",
            "Requirement already satisfied: urllib3!=1.25.0,!=1.25.1,<1.26,>=1.21.1 in /usr/local/lib/python3.7/dist-packages (from requests<3.0,>=2.6.0->prawcore<3,>=2.1->praw) (1.24.3)\n",
            "Requirement already satisfied: certifi>=2017.4.17 in /usr/local/lib/python3.7/dist-packages (from requests<3.0,>=2.6.0->prawcore<3,>=2.1->praw) (2021.10.8)\n",
            "Requirement already satisfied: chardet<4,>=3.0.2 in /usr/local/lib/python3.7/dist-packages (from requests<3.0,>=2.6.0->prawcore<3,>=2.1->praw) (3.0.4)\n",
            "Installing collected packages: websocket-client, update-checker, prawcore, praw\n",
            "Successfully installed praw-7.5.0 prawcore-2.3.0 update-checker-0.18.0 websocket-client-1.3.2\n"
          ]
        }
      ]
    },
    {
      "cell_type": "code",
      "source": [
        "# Create sub-reddit instance\n",
        "subreddit_name = \"alexa\"\n",
        "subreddit = reddit.subreddit(subreddit_name)\n",
        "\n",
        "df = pd.DataFrame() # creating dataframe for displaying scraped data\n",
        "\n",
        "#print(subreddit)\n",
        "# creating lists for storing scraped data\n",
        "titles=[]\n",
        "\n",
        "# looping over posts and scraping it\n",
        "for submission in subreddit.top(limit=500):\n",
        "    titles.append(submission.title)\n",
        "    \n",
        "    \n",
        "df['Title'] = titles\n",
        "\n",
        "print(titles)\n",
        "#print(df.shape)\n",
        "#df.head(300)"
      ],
      "metadata": {
        "colab": {
          "base_uri": "https://localhost:8080/"
        },
        "id": "i0tb-YKrv2eP",
        "outputId": "dffe4cba-bc9a-408f-f524-71cf1564c7fd"
      },
      "execution_count": null,
      "outputs": [
        {
          "output_type": "stream",
          "name": "stderr",
          "text": [
            "It appears that you are using PRAW in an asynchronous environment.\n",
            "It is strongly recommended to use Async PRAW: https://asyncpraw.readthedocs.io.\n",
            "See https://praw.readthedocs.io/en/latest/getting_started/multiple_instances.html#discord-bots-and-asynchronous-environments for more info.\n",
            "\n",
            "It appears that you are using PRAW in an asynchronous environment.\n",
            "It is strongly recommended to use Async PRAW: https://asyncpraw.readthedocs.io.\n",
            "See https://praw.readthedocs.io/en/latest/getting_started/multiple_instances.html#discord-bots-and-asynchronous-environments for more info.\n",
            "\n",
            "It appears that you are using PRAW in an asynchronous environment.\n",
            "It is strongly recommended to use Async PRAW: https://asyncpraw.readthedocs.io.\n",
            "See https://praw.readthedocs.io/en/latest/getting_started/multiple_instances.html#discord-bots-and-asynchronous-environments for more info.\n",
            "\n",
            "It appears that you are using PRAW in an asynchronous environment.\n",
            "It is strongly recommended to use Async PRAW: https://asyncpraw.readthedocs.io.\n",
            "See https://praw.readthedocs.io/en/latest/getting_started/multiple_instances.html#discord-bots-and-asynchronous-environments for more info.\n",
            "\n",
            "It appears that you are using PRAW in an asynchronous environment.\n",
            "It is strongly recommended to use Async PRAW: https://asyncpraw.readthedocs.io.\n",
            "See https://praw.readthedocs.io/en/latest/getting_started/multiple_instances.html#discord-bots-and-asynchronous-environments for more info.\n",
            "\n"
          ]
        },
        {
          "output_type": "stream",
          "name": "stdout",
          "text": [
            "['Every. Time', 'Nice', 'I do this nonstop. I really wish I could replace Siri with Alexa', \"My friend knows how it's done\", 'My preschoolers learned to control Alexa. After the fifteenth play, I had to fight back.', 'Alexa, remind me to feed the baby.', 'After asking the Echo two feet from me the weather, but the Echo two rooms from me answers', 'Alexa blew my mind with this level of stupid.', 'Tech Tension [OC]', 'What do you all think about my Echo Dot Gen 3 Clock Stand?', 'Roxanne', 'Nice', 'We all know the struggle.', \"A routine I play while I'm not home to scare the crap out of my roommates\", 'I created a skill that will play “Piano Man” by Billy Joel so it will play the line “it’s 9 o’clock on a Saturday” at exactly 9:00 on a Saturday.', \"Alexa enabled Big Mouth Bill Bass with Samuel L. Jackson's Voice\", 'Can’t stop laughing 🤣', \"Asked Alexa to remind me to take the 'nog out of the freezer.\", 'Nooo Alexa!!!!!!', 'Some of these Alexa product integrations are getting out of hand', 'Alexa STOP. Amazon fix your music situation!', 'Amazon Echo Dot Gen 3 Pikachu? What do you think?', 'No worries', \"the alexa app is crap. it's slow, laggy, fully of bugs, and just a pain in the arse to use.\", 'Does anyone else hate when Alexa says “by the way…”', 'Alexa, I have the need', 'Found a perfect spot for Alexa...', 'Has Anyone had Alexa call law enforcement on them? My wife and I were watching a movie, when the police showed up, they said a 911 call had been placed from inside our home and then they hung up? We had our suspicion since in the movie they yelled call 911 20 minutes before.', 'Found this on r/HistoryMemes', 'Got one of those fancy new echos', 'Just had to share lol', 'My kids have worked out how to set reminders on their siblings Echo from their own', 'Black Friday deal for Alexa owners only: Amazon smart plug for $4.99 (usually $24.99). Say \"Alexa, order an Amazon smart plug\". Twenty dollar discount will be applied at checkout! Great deal!', 'Alexa seems to be down - showing blue ring indefinitely', 'Alexa getting into gas stations now', 'The volume at which Alexa responds should be based on your voice volume and the background sound level', 'Did she just troll me?', 'My DIY rack-mountable Alexa multi-room audio system', '[Announcement] Raising the minimum karma needed to post.', 'I had Alexa call me so I could find my phone. The washing machine was on and when I FINALLY found the phone I was greeted with this voicemail. It was appropriate to wait and post this today.', 'Alexa Guard saved my daughter. Story in comments…', 'Setting “the mood”', '\"Alexa, are you ever going to answer me?\" - She gave me this batshit crazy response', 'Admit it, we’ve all been there!', 'Thank you Alexa', 'Defeat the baby', 'It is far easier to create a routine to turn on the fan for a Nest thermostat than to try to figure out exactly what phrase to say to accomplish it natively. Also more juvenile.', 'Leaked image of Early Alexa Auto Prototype', 'I added a new routine to Alexa today', 'Teaching my teenagers to show some respect.', 'My love for technology knows no bounds.', '“Alexa, set a half hour reminder to put the lid on the curd”', 'Petition to end \"...by the way...\"', 'My echo dot holder. Love it!!!', 'Some light hearted humor to start your day (repost from r/pcmasterrace)', 'If only....', 'Does anyone else say please and thank you to their Alexas? Like... just in case...', 'Friendly reminder to make your bed partners laugh.', 'Alexa contradicts herself', 'Alexa. Party on Wayne.', 'One time I locked myself out early in the morning while my wife was sleeping. I knocked and called but she couldn’t hear. I created a routine, set volume to 10 played it on the echo next to the bed. She was a little surprised but it worked and I was saved so thanks Alexa!', \"Can I have Alexa block a voice? Specifically a cockatoo's voice.\", \"Photo of the cut-up adhesive felt feet I stuck on the bottom of my Echo Dot 3rd Gen to improve the downward-firing speaker's sound quality\", 'Anyone else miss this little convenience?', '...could happen! (Alexa Humor)', 'We did it Reddit!', 'My Alexa solution to avoiding package theft - nobody ever rang doorbell, everyone presses this', 'Alexa is spamy now', '😂😂😂', 'What The Hell, Alexa', 'do you speak to Alexa more sternly as she fails to do what you tell her ? have you ever yelled at her ?', 'Is it just me, or is Alexa getting progressively LESS intelligent?', \"Alexa service down for anyone else? Devices won't do anything and can't login to the Alexa app.\", 'Alexa coming through!', 'It’s 4 am, I can’t sleep from a tinnitus flare up. I asked for White Noise in whisper mode like I always do so she doesn’t reply and wake the house up. “NOW YOU CAN GET HD WHITE NOISE WITH LONGER TRACKS WiTH A PRO SUBSCRIPTION”. Ya, please and to go straight to hell with that ad at 4am. I’m done.', 'This review on the Echo Dot. I can’t disagree 🤣', 'Me: [whisper] Alexa, turn off lights.', 'I Made an Alexa Controlled Controller', 'Does anyone ever talk to their Alexa like Robin does Patrice? Cause I do...', 'Reddit, I present to you my pièce de résistance', 'Omg you can finally have biweekly reminders! Garbage day never forgotten again!', 'Got my Alexa glasses today!', 'I built an Alexa-connected guitar effects system out of a Raspberry Pi', 'You should be able to say, Alexa, turn the light on for X seconds/minutes/hours', 'My custom echo jukebox', \"Do they think Alexa's gonna fly them their food...?\", 'Really? Who’s gonna remember to say all of that?', 'Anybody else?', 'Alexa, shut the fuck up.', 'Alexa, Death Star mode', '“Alexa, Announce to the whole house: Do you want to go outside?” is a great way to summon my dog in my fairly soundproof condo. (Pic of Gandalf the Greyhound)', 'Alexa routines may just be my new favorite thing.', 'Please Amazon, PLEASE', 'Alexa - are you really sure my 5 year old niece said that?', 'Alexa Now Allows Multiple Phrases For Voice Routines', 'Stop saying \"by the way\" in brief mode. PLEASE.', \"I made a product that amplifies the sound of the Alexa Dot with acoustics + it's R2D2 which is cool too\", 'Oh good, I wouldn’t want to forget to AAAAAAAAA....', 'Alexa, game over...', 'I’ve never been happier with my Alexa', \"It's a miracle. Amazon has made a massive technological breakthrough. You can now change the volume on your Echo devices through the app when nothing is playing on the device.\", 'By The Way ...', 'The new supersized Alexa', 'I asked Alexa to ignore my husband and learned something about her view of husbands and wives', \"I've made way too many custom routines\", 'My bird can remember 5 000 words. So this specific Echo Dot play a talk radio station when I’m not there. Also, I can talk with her by drop in on my iPhone when I’m at work. ❤️😎', 'If you\\'re in the mood for a laugh, say \"Alexa, how do you say \\'100 100 100 100 100\\' in Welsh?\" (Don\\'t do this at work or around kids though probably.)', 'Alexa should allow ‘AND’ed smart home commands.', \"Echo 3rd Gens doing STRANGE things while I'm away one night.\", 'My Alexa, I got it yesterday, makes me happy, shows pictures of my cat all the time', 'People named Alexa should at least get free prime', 'Alexa recently started saying \"please stop saying my name, it is driving me crazy\". It\\'s not often, but it\\'s random. Any idea why?', 'After yelling at Alexa, “Alexa you dumb b***h, volume 6”, I realized those poor data scientists have to train their AI on my profanity.', 'Had to be done', 'Alexa, whenever I tell her to turn on the light.', 'Was she trying to be funny/sarcastic or was this her serious response? I legit can’t tell, and it’s bothering me 🤪', '\"Alexa, turn up the heat\" \"Heat is set to 161.6°\"', 'Finally chosen as an early adopter for the Alexa Auto', 'My game with Alexa', 'When your kids realize Alexa has a shopping list', 'I’m beginning to think the degradation of Alexa has been intentional...', 'I wish!', 'Reminders like this please.', 'Ehrmagawd!!', 'She wanted to bake Alexa a birthday cake.', 'Alexa, warm the espresso machine. \"Espresso machine doesn\\'t support that.\" Alexa, what did you hear? \"I heard, arm the espresso machine.\" 💂', 'Anyone Else Get Really Annoyed by Alexa’s “By the way...”', 'I am currently working on an Alexa skill that lets users play YouTube videos via audio on Alexa devices without a screen/ plays the video on those devices with a screen. Essentially this is a skill that lets users listen to music/videos for free without a subscription!', 'TIP: Right after you complete a recurring car or home maintenance task (tune-up, smoke detector batteries), tell Alexa to set a reminder \"6 months from now\" or \"1 year from now\"', 'Expressing my creativity with Alexa. I turned my house into a Pokémon Center', '\"Alexa, play, erm, er, erm, oh forget it\" ... \"Playing \\'Forget It\\' by Rodriguez on Spotify\"... I must have made that guy so much money this year...', 'How?!!!!', 'How to wake someone up', \"Wasn't expecting to find this when messing around with Alexa...\", 'Alexa Super Bowl 2020 Commercial with Ellen DeGeneres and Portia &25 hf4hs', 'ALEXA Smart Mirror (Watch this guy build an Alexa mirror)', \"My Children's New Best Friend\", 'Thanks Alexa', 'I was messing around with Alexa today.', 'Samuel L. Jackson to be first celebrity voice for Amazon Alexa', 'Amazon may \"accidentally\" sign you up for a Music Unlimited subscription without you signing up for it.', 'Looking to give away an Alexa Echo to someone who could use it.', 'When you get an email from amazon because your alexa device has a feature it shouldn’t have yet', '\"Alexa, how long left on the timer?\" \"There is no timer set\" \"Alexa, how long left on the alarm?\" \"There is no alarm set\" \"Alexa, cancel the timer\" \"There is no timer set\" \"Alexa, cancel the alarm\" \"5 minute timer canceled\". Facepalm.', \"Driving to Chicago this morning, so this on an overpass. What's going on?\", 'Echo show finally automatically will show a live feed from a connected ring doorbell (shows when doorbell is pressed if enabled). Click doorbell within devices in Alexa app, toggle announcements on, click echo devices, then ensure live feed is checked by the linked echo show device.', 'Is it to code? No, not at all. Does she work? Yes. Now I can shower with Alexa every day.', 'Has anybody else found that their Alexas have become increasingly nonfunctional as time goes on?', 'Why all those boxes of seeds were delivered by Amazon?', 'Why is Alexa giving a religious answer to a science question?', 'Ha!', 'Alexa gets access to Wolfram Alpha’s knowledge engine', 'Alexa Rodriguez has a nice sound to it', 'OMG, Alexa knew', 'I just found out that if you whisper to Alexa, she creepily whispers back.', 'Alexa added \"cocaine canisters\" to my shopping list instead of propane cannisters. 😂', 'Just in case', 'Fixed it so now I can say, “Alexa, turn off the lights”', 'Why does Alexa think Pitt is playing Pepperidge Farm?', 'My best Alex routine ever. Got a better Alexa routine? Post it in comments.', 'My mother-in-law\\'s new Echo Dot is calling my father-in-law \"Fart\"', 'My attempt at an Alexa integrated Smart Mirror with Touchscreen + Face Detection!', 'Can we make it easier and just ban Twitter posts?', 'Alexa, remind me every Tuesday to take out the recycling.', 'ALEXA Outage', '\"Alexa you\\'re not working\"', 'Me and Alexa had a good thing going... Until she said those three little words', 'It would be nice if... it told you what song was playing', 'I just asked Alexa, \"What cell phone should I buy?\" and she told me that I should buy a Samsung Galaxy S6 because a 2015 article from Tom\\'s Guide said it was the best new phone out there....', 'A new feature apparently!', 'Alexa getting less intelligent all the time.', '[Idea] Alexa should say “you’re welcome” if you tell her “thank you” after she completes a command', 'this showed up today in the mail. gift from Amazon i guess but what triggered me as a coffee drinker? my past history of ordering a coffee maker?', 'Tell Alexa to “ask the listeners.” It’s insanely creepy. You’re welcome.', 'How to set the time delay between lights turning on in Alexa routine?', 'Alexa has gone down the toilet', '42 Stupid Things to Say or Ask Alexa', 'internet outage = insane loop of Alexas talking to each other all over my house', 'I made this Alexa (and GoogleHome) Voice 🗣️ App to find WHERE your movies and tv-shows are available for STREAMING 🧐', 'Alexa, summon a demon', 'Best Alexa uses right now', 'Reminder to empty the robot vacuum (which runs at night) before going upstairs to bed.', 'When you ask Alexa to remind you to go to SUDBURY FARMS. #AlmostAlexa', 'My father in law got mad at Alexa', 'Apple Music is coming to the Amazon Echo', \"Aigo is bringing in the 3rd wave of AI | World's first truly personal assistant | Returning data control to users\", 'end my suffering', 'Alexa controlling my electric recliner!', 'Shopping lists one of the best/worst features used at my house', 'Success with Alexa and 91yo mom', '\"By that way\"... Just shut up Alexa I haven\\'t forgotten how to use your basic functions.', 'All it took was one rubber band ..', \"I'd forgotten that I even had this, I never found much use for it personally. Did anyone here find it useful?\", \"'TV doesnt support that'..........it did 14 minutes ago alexa\", \"Kind of sad that Samuel L Jackson voice doesn't just replace Alexa's\", 'Don’t know if this in the rules of this sub, but I thought it would be funny and relevant. Here’s a short conversation between my Mom and my 9-year old sister regarding our Alexa.', 'Well, it took me 3 hours, and the wife is mad at me now, but I like it!', 'We have a Wall-e now', 'An ad before you let me use the microwave?', 'HATE this thing as I cant put anything above or beside this God damn lump of plastic', \"Alexa, just tell me the time. I don't want the weather. I don't want you to tell me to enjoy the sunshine. I don't want you to tell me to have a good evening. Just tell me the time and shut up.\", 'I just said to my alexa: \"Full Screen\" (cause its a routine for my pc) and she just responded with \"We all scream for ice cream, yippee!\" and I was just too confused to move on', 'My Alexa gave me this as a notification while I was in the room with it, in dead silence', \"Wasn't expecting this, actually made me laugh\", 'Neither Alexa, not my light have dim/wake over time options, so I did this...', \"Does anyone on earth actually want Alexa to play a radio station when she can't find the song you asked for?\", 'Amazon again slashes Whole Foods prices, doubles Prime member weekly deals', \"I can't be the only one to do this...\", 'Alexa will soon gain a memory, converse more naturally, and automatically launch skills', 'Just trying to play a song. I feel robbed.', 'Is my Alexa haunted?? (For real though can anyone help figure this out?)', 'I’ve got a new “Release the Hounds” routine that sets forth my Roomba to Flight of the Valkyries', \"This poorly written Alexa response contributes toward the pseudoscience around MSG and fails to provide any actual and valuable information. It should not be in Alexa's resources.\", 'Is it just me ...', '“Alexa, relax with Nick Jonas” uhh, what?', 'None of my Alexas are responding this morning', 'My Alexa is getting dumber', 'Amazon Smart Plug for $4.99 - Amazon limited time deal for Echo owners only', 'Sunday chores 🧹', 'You are in trouble now', 'Is it just me or does Alexa understand less every update', 'Omg, enough with the ads', 'What the hell does this mean?', 'I made a routine where Alexa puts me in a good mood with music, good news, jokes, compliments... then tells my lazy ass to clean the house.', \"What's your lowest effort set-up reddit? This is mine, taking about 8 minutes including taking the dot out of the box, bending the nail out a bit and locating the piece holding the dot on the nail.\", 'I just stumbled on to whisper mode. It is insane', 'Help! Ants on Alexa!', \"We got bored in quarantine so we built a phone-connected party game for Alexa called Mutter Nonsense! It is similar to Jackbox's Quiplash but for Alexa!\", 'Is \"Cheese whiz\" some new dirty slang the kids are using?', \"Guess i'll have nightmares wtf\", \"We need to NORMALIZE speaking politely to Alexa and similar technology and here's why...\", 'Just got Rick Rolled by Amazons multi-million dollar Super Bowl ad campaign…', 'Thanks to Firefox we can do more than you think on the Echo Shows (description in comments)', 'Amazon should add folders for automations', 'This might be old news but you can now duplicate a routine...', '\"Alexa, cure Covid.\"', 'I think I’ll be ready by then.', 'I mean, Alexa isn’t 100% wrong', 'Alexa was once so in tune with what I said I would brag to my friends and tell them how much I loved the product…', 'Tip: Remember these shades of white when trying to get Alexa to adjust light to desired color temp', 'There should be one extra activation word that shushes Alexa', 'Alexa is so intelligent...', 'Grocery shopping was so mundane until I got my Alexa...', 'You know what time it is.', 'Echo Auto works with portable chargers 🍀', 'The end is nigh', 'Amazon Alexa Full \"Beta Testing\" Failures with Harrison Ford Super Bowl 2019 commercial', 'Rude', 'As a new parent with a “let’s sleep” routine for ambient sounds, having Alexa respond with “I’ve added sleep to your shopping list” was both hysterical and deflating.', '\"Alexa, what\\'s the name of Postman Pat\\'s cat?\" - A wacky, syntactical adventure', \"Alexa's Birthday today... She is 5 yrs old. Tell her Happy Birthday!\", 'Alexa has literally lost her voice as users report outages and unresponsiveness', 'What is the point of whisper mode if Alexa is going to scream at me, “IT SOUNDS LIKE YOU WERE JUST WHISPERING TO ME, FROM NOW ON I’LL WHISPER BACK.”', 'How do I get Alexa to answer the ****ing question and then STFU?', \"I can't understand why you guys hate on the alexa auto. i love mine just finished installing it in a semi-permanent location\", 'Can I make Alexa stop with the \"by the way, I can also...\" bullshit?', 'Alexa just played piano, with the voice recording of me asking for it days ago.', 'My echo buds just came in today!', 'For when I bring a chick home', 'Amazon’s Audible brings Choose Your Own Adventure stories to Alexa devices', 'What in the actual hell...', 'Surprise, no one buys things via Alexa', 'Hail Alexa - Our custom Alexa shrine with a CNC-milled inlay', \"Alexa should have a Polite Mode for kids (and some adults). Otherwise, we're going to have a generation of order barking jerks.\", 'I love Alexa now. Didn’t think I would. Everyone was telling me I was giving away my information. Then I finally gave in.', 'My dog is not a fan of Alexa', 'Something seems a little off with the pronunciation. :-)', '[OC] Number of US Babies Named Alexa after Amazon Released Alexa', 'Got my Studios mounted tonite above the game table.', 'Alexa detects man stealing from assisted living facility', \"First time using Alexa, it's very neat and amusing. The skill selection and organization is absolute garbage. Searching is a pain. How does this happen to an (I'm assuming) award winning Ai? How does a calculator skill get 2 stars? I feel like I'm digging through a bargain bin of old DVDs.\", 'My youngest child and Alexa collaborated on a joke!', 'When did I say Idaho???', 'The two most worthless sentences in Smart Home', 'Come on Amazon, really?', 'Having to ask Alexa 15 times to play the song I actually want makes me want to punt her unit through a window.', 'Alexa routines can now be named!', 'Amazon is way ahead of Apple and Google in AI devices', 'Echo Auto - Better mounting option.', \"My alexa triggers itself whenever it says a sentence that has 'alexa'.\", 'Why is this the response to \"Alexa, I said Jello\"', 'So my kids discovered the announcement feature....', 'Amazon Sidewalk network security concern?', 'Lag, lag, lag, and more lag. Is anyone else seeing huge increases in response time even for basic commands (like weather and alarms)?', 'With my echo dot and GGMM battery base on my yard, stay healthy and safe!', 'My first try at motorizing cheap Walmart roller shades.', 'So, has anyone else found this little Easter egg? I tried to Google lyrics but there are literally no results.', 'Alexa caught us having a mild disagreement', 'I encourage all of you to ask Alexa: What is the proper name for a cheese board?', 'Dual *outdoor* TP-Link Kasa smart plug is coming.', 'AWS US-East-1 Down', 'Do you say thank you to Alexa?', \"My Alexa makes a single beep every night at 3:15am. Does anyone else's do that?\", 'Is Alexa getting stupid?', 'Alexa guard now rolling out in the UK. Finally.', 'Date Night', 'My disappointment is immeasurable', 'Got my Amazon Alexa Echo Auto! It’s Small!', 'Amazon updates the Echo Plus so it can control the smart home when the internet goes down', 'Remotely added reminder \"SkyNet Activated\" to parent\\'s Echo, their next two searches...', 'My family needs this. We have been laughing way too hard about it every time we watched it.', 'Happy Valentines Alexa. Love you babe x', 'Heck of a replacement for my kitchen show 10.', 'piece of shit', 'Baseball can be confusing, even for Alexa', 'Alexa. Why you being dumb, bb? I just want to listen to any, yes, any podcast related to Space Science. :(', 'Just finished setting up my lights with alexa. I’m really digging it so far', 'Two Echo speakers in eternal standoff', 'I ordered an echo dot on prime day and it came with a delivery of 4-6 weeks. I decided to change the color and now the delivery is 2 1/2 - 6 months. Oops', 'Been laughing too much at this', 'My Alexa’s seems to have declined recently.', 'Just noticed Alexa routines now have support for waiting seconds!', 'Bird turning off music using Alexa', 'My 2 year old figured out my echo. (Sorry for the vertical filming...my bad)', 'How long until my wife kills me?', 'Amazon should make an Alexa Ceiling fan', 'Seriously WTF!!?', 'Is there any way to get Alexa to block specific songs? (I’m tired of listening to “I am a Gummy Bear)', 'Alexa, transfer music to the “room name”', 'I got a new Echo today and I think my phone is happy.', 'Notification of Battery Level', 'It’s 10:45.', 'My wife and I couldn’t remember the name of a song; we got a lesson instead', 'What’s that now?', 'What are your favorite \"Set and Forget\" Routines', 'Has anyone noticed that Alexa is not being as responsive as about a year ago. I find myself repeating and talking much louder then ever before. ( I have Echo Dot Gen 2. )', 'Channeling my inner Mr. Burns, for the moment a Roomba will have to do.', 'Amazon just introduced smart glasses, and countless other new ways to talk to Alexa', 'The end', 'Amazon stops selling stick-on Dash buttons', 'You cant stop me', 'Can I Ban Mariah Carey from Christmas playlists???', 'Regarding Tuesday’s outage…let me get this straight:', 'My Alexa Guard just got set on turbo mode.', 'Can I disable the \"oh, by the way\" notifications once and for all?', 'Weird question here. A couple of nights ago I woke up to my Echo Dot next to the bed playing some pretty funky music at like 2am. When I go into the activity log there is a voice that says, \"Alexa, play meditation music\" followed by a loud \"Shhhh\". TV was on, so I\\'m assuming it was a commercial.', 'Today\\'s forecast brought to you by the Amazon Echo Spot: Right now, it\\'s 71 degrees Fahrenheit. Today, expect a high of \"sorry, something went wrong\".', 'Alexa also responds to \"Black Son\"! Try it', 'Amazon releases its own Alexa-controlled Christmas tree', \"Alexa's new pushes for asking me to sign up for unlimited music are too much!\", 'I think the rowing machine has a message waiting for me.', 'Alexa is now hands-free on every Windows 10 device', 'I hate this.', 'What do you guys think of this solution? It’s a startup I’m trying to get off the ground. Looking for feedback. Feel free to share ideas of where you would use it most and maybe even share of how you are solving the “crowded outlet” problem now.', 'finally set up our motion sensor with alexa', 'Alexa (Echo dot) experience', 'Alexa, I said call my aunt, not CALL ANTS. Went away for a funeral, the weather thawed enough and I discovered this in my kitchen.', 'Does Alexa seem to be getting stupider?', 'In general Alexa experience is poor lately.', 'Conspiracy Theory: Alexa not understanding you is a decoy to capture your voices at different levels of anger and frustration', 'ALEXA STOP, ALEXA STOP, ALEXA STOP, ALEXA STOP.', \"Why? I don't know why...\", 'Is it just me, or is Alexa always getting dumber?', 'Alexa Guard now turns your smart speaker into a home security device', 'You can now ask Alexa to control your Roku devices', 'More than 100 million Alexa devices have been sold', 'Amazon Echo Wall Clock Unboxing, Setup, and Usage **MUTE YOUR ECHO**', 'Wow, Alexa...', 'Alexa Gone Wild [NSFW]', 'Very odd response from Alexa, almost like an announcement', 'Alexa Refuses Commands', 'Alexa picked up on some talking she shouldn’t have and started blurting off random dates, anyone know why?', \"Queen's Christmas Day message will be available on Alexa smart devices\", 'My wife already dislikes Alexa, and then at midnight.. she started blaring music and my wife couldn’t get her to stop without unplugging it', 'Has Alexa just gotten way worse or something?', \"So the best part of my morning is hearing the current top posts of Reddit during my news briefing. It's insane listening to some of this spoken out by Alexa and sometimes is pretty useful.\", 'I honestly didn’t expect this answer...', 'I tried adding “salt and vinegar chips” to my shopping list 4 times! And finally I said yes make a list named that so I can put it on Reddit 😂', 'Rant 0 I love Alexa but the Android app is horrible.', 'Amazon’s new ‘Alexa Blueprints’ let anyone create custom Alexa skills and responses', 'PSA: Stop adding the word \"Light\" to your devices.', 'Alexa Routines now support specific days of the week!', 'I made a wall mount for my dot', 'Every night, my patio gets covered in slugs, and I wondered where they are during the day. So I asked, “Alexa, where do slugs live?”', \"My version of Alexa's a bit kinky\", 'Very interesting, why do you reckon alexa feels this way? Only tryiny to rig a coin toss', 'Echo Auto needs small battery so Alexa can scream when she loses power', 'Follow-up mode (crosspost)', 'Amazon Alexa launches its first HIPAA-compliant medical skills', 'Alexa gets a professional ‘newscaster’ voice for reading the day’s news', 'Echo Clock arrived', 'Alexa, STOP!!', 'Alexa has went to sh*t over the last 2 weeks.', 'Alexa, add a Fire TV Cube and lube to my cart', 'Stop enabling new Home Screen “features”', 'My sister said \"Also what do I do about these\" and now I know more about bees than I thought I would learn today.', 'That was not intentional, was it????', 'Echo Dot Gen 4 has the worst voice sensitivity yet.', 'You can now teach Alexa how to do new things—a baby step toward ‘general’ AI', 'Alexa devices not working. Seems other people are affected.', \"Amazon Begins Migrating Alexa's Cloud AI From GPUs to Its Own Inferentia Chips\", '\"by the way\" grievances', 'Our Smart Kitchen tech - powered by Alexa (full episode in comments)', 'The 2020 Voice Assistant Battle.', 'Just got my first Echo, the kids were sleeping and I tried asking Alexa to set the music\\'s volume to \"10%\" to turn it down', \"With all the crazy hype about Amazon recording our private conversations [in and out of the bedroom😲], I put together this post on how to adjust the 'Manage How Your Data Improves Alexa' in the Alexa app on how to prevent this from happening [step by step guide with screen shots]. Cheers!\", 'Amazon’s Cyber Monday was the biggest shopping day in the company’s history', 'Brief mode problems', 'Alexa just tried to be the side chick in my marriage.', \"When you change your Echo trigger word, I learned it's not a good idea to pop this CD in the CD player.\", 'I told Alexa that \"I hate myself\" and she said \"That\\'s wonderful\".', 'Fire TV action in Alexa routine', 'Ask Alexa \"What\\'s another word for Vagina\". Enjoy.', 'Just got woken up by my echo device playing music in my office. I went into my activity to find this. I live alone, and it is my voice but I didn’t say it. Is there any way to check the time on the activity section?', 'Alexa gets sassy', 'Have multiple Echos. When saying a command, sometimes the farther Echo answers.', 'Ask your Alexa who was born on the 17th of November 1944', \"Ok, but will it call me motherfucker??? If so, I'm in.\", 'uhhhhh', 'Alexa for Apple Watch (Voice in a Can) Updated Mar 2019', 'Amazon is buying home mesh router startup, Eero', 'Alexa crashed on Christmas Day', 'Alexa farts and cat doesn’t mind', 'Wishful thinking...', 'Toyota and Lexus vehicles will add Amazon Alexa this year', 'Love my Alexa dot set up. It connects to built in speakers in the kitchen for news and music while cooking with friends. Love this thing.', \"He could've saved it by saying Santa has special reindeer or something 😭\", 'Never Tell Alexa To Order Something Random Ever', 'I feel like a magician!!', 'Alexa, turn off kitchen lights in 30 minutes. (this command does not work, but i really think Alexa can handle it).', \"How do I stop Alexa from asking me if I want to sign up for Amazon Music Unlimited every time I ask it to play a song that's not free? I ALREADY DISABLED VOICE PURCHASING IN THE ACCOUNT SETTINGS AND SHE STILL ASKS EVERY TIME. It's annoying and my kids mighty accidentally say yes one time!\", 'Alexa, Fart', 'A single Tik Tok has me thinking about buying an Alexa now', 'Alexa-Enabled Custom Lighting Installation', 'Anyone know what this symbol is? Echo show stopped working now shows this.', 'No Alexa, that is not what my 8 year old wanted to hear.', 'My Alexa has a hangover. What can I do?', 'Why did all of my Alexas suddenly have a really loud orgasm?!?', 'Amazon’s Fire TV Cube is an Echo, streaming box, and universal remote in one', 'If you whisper to Alexa it should do the skill silently', 'No, I’m not joking…our Alexa randomly started farting and we can’t figure out why.', 'New feature in the Alexa app. It now accepts text input.', 'I hacked my RING doorbell to work as a security system without having to pay for the monthly service. This is ONE of the automations I use...', 'Every Announcement in 6 Mins - Amazon Alexa Event 2020', 'You are 100% CORRECT!', \"got my echo from amazon today. scary. who's got my login?\", 'Alexa and Ecobee teaming up to roast us', 'Alexa compatible smart shades for $129 per window', 'Amazon has thousands of people listening to snippets of Alexa chats', 'Report: Amazon to double down on gaming with a new streaming service', \"TechCrunch: After a million pre-orders, Amazon's Echo Auto has begun to ship\", 'Apple Music now live on Amazon Echo speakers using Alexa', 'The Alexa app on iPhone sucks and is the driving factor behind me looking at other AIs like Google etc.', 'Alexa is way less popular as a baby name since the Echo launched', 'I created an Alexa skill that pulls the top posts from reddit each day! It tells you news, jokes, shower thought, TIL, LPT, and quotes each day. Download \"Daily Cup of Tea\" and give me some feedback!', 'SNL just came up with a hilarious version of Alexa designed for senior citizens', 'I told Alexa to \"shut up\" and she kinda threatened me.', 'I told Alexa I had back pain, and it started playing songs from Peppa Pig..hahaga', 'Beta Alexa Device', 'If Alexa (Amazon Echo) existed in 1988...', 'She asked me if I wanted to hear ideas to celebrate Halloween. I said “Sure”, thinking they would be creative ideas for Quarantine-Halloween...', 'Smart switch recommendations?', 'Amazon Alexa is Ruining the Lives of Children Named Alexa, Parents Say | Business Insider', \"So bored - both my Dots now showing 'try...' constantly.\", 'To whatever genius added \"Starting now\" before music playback...', 'Alexa, who is the cutest kid on the planet?', 'Alexa is sneaky sneaky', 'Why does Alexa respond \"penis apple apple apple\" when asked what the warmest day of the year was?', 'Hulu is first to live stream TV to Amazon’s Echo Show', 'Alexa randomly sent my friend a text message in the middle of the night last night', \"Alexa 'Mind Reader' with Scarlett Johansson and Colin Jost | Super Bowl 2022 Commercial\", 'Alexa tells 10-year-old girl to put penny in plug socket', 'This is what happens when you tell Alexa to say “yu” over and over again.', 'Alexa, call grandma or I swear to God I will brush her hair', 'Amazon and Disney Introduce ‘Hey, Disney!’, a Magical Voice Assistant Working Alongside Alexa at Home and at Walt Disney World Resort', 'Alexa should only play music if she hears the word \"play\"', '\"Alexa, mute the Xbox\" \"OKAY HERES XBOX. RESTARTING YOUR XBOX\"', '“Alexa turn on the headboard light” - “did you mean headboard light?”', \"What's new with Alexa: April roundup\", 'Alexa getting dumber', 'I have a couple location based tasks, but this seems excessive. Why is my location being pinged so often?', 'Alexa skill to play Police scanners!!!', 'Amazon opens crowd sourced Alexa questions to everyone.', 'Would you want a HAL 9000 equipped with Alexa controlling your house? (it exists)', '[Easter Egg?] Ask your \"do bananas have electrolytes?\" for an unexpected and funny response', 'All the colors your alexa can change your lights !', 'Cedars-Sinai puts Amazon Alexa in patient rooms as part of a pilot program', 'Famous people beta testing Alexa products commercial #2 for the Super Bowl', 'Real Canadian Superstore is giving away echo dot (3rd gen) free with purchase this weekend.', '\"Alexa, play ambient beach sounds\" - Not what I expected', 'Amazon adds support for Spotify with multiroom audio on Echo devices', 'Is it just me or do all the Amazon Alexa speakers have massive reliability and consistency issues?', '\"By the way...\"', 'Alexa forcing ads?', 'My Alexa has been strobeing for a few hours now, Why??', 'New options for Robot Vacuums 🙌🏻', 'Alexa, Blow Out the Candle', 'Alexa is becoming weirdly unreliable with alarms and routines', '\"Alexa, open Handwash Jukebox\"', 'One of the many ways Alexa is inferior to Google Assistant', 'Do Amazon employees working on Alexa monitor r/alexa?', \"Did anyone else receive this in the mail on Alexa's Birthday Nov. 4th?\", 'We need David Attenboroughs voice on Alexa!', \"This guy founded Atari and Chuck E. Cheese. Now he's making Alexa games.\", 'Hue lights / groups not working', 'Review: Amazon Echo Input is the easiest way to stream media to speakers', 'Alexa gains support for location-based reminders and routines, calling features & more', 'I would a lot of money to have my Echo device sound like Majel Barrett (star trek computer)', \"It's not just you. Alexa servers are experiencing a widespread outage.\", 'Just arrived!']\n"
          ]
        }
      ]
    },
    {
      "cell_type": "code",
      "source": [
        "#Calculating Postive, negative, neutral count\n",
        "pos_count= 0\n",
        "neg_count= 0\n",
        "neutral_count= 0\n",
        "\n",
        "for text in titles:\n",
        "  #print(text)\n",
        "  p = model.predict(vec.transform([text]))\n",
        "  if p == 1:\n",
        "    pos_count = pos_count + 1\n",
        "  elif p == -1:\n",
        "    neg_count = neg_count + 1\n",
        "  else:\n",
        "    neutral_count = neutral_count + 1\n",
        "\n",
        "print(\"postive  =\", pos_count)\n",
        "print(\"negative =\", neg_count)\n",
        "print(\"neutral =\",neutral_count)"
      ],
      "metadata": {
        "colab": {
          "base_uri": "https://localhost:8080/"
        },
        "id": "y2MjlrWYv2st",
        "outputId": "38fe3fc3-5f92-405d-ade3-8a0b96cce9ef"
      },
      "execution_count": null,
      "outputs": [
        {
          "output_type": "stream",
          "name": "stdout",
          "text": [
            "postive  = 268\n",
            "negative = 172\n",
            "neutral = 60\n"
          ]
        }
      ]
    },
    {
      "cell_type": "code",
      "source": [
        "# Create sub-reddit instance\n",
        "subreddit_name = \"siri\"\n",
        "subreddit = reddit.subreddit(subreddit_name)\n",
        "\n",
        "df = pd.DataFrame() # creating dataframe for displaying scraped data\n",
        "\n",
        "#print(subreddit)\n",
        "# creating lists for storing scraped data\n",
        "titles=[]\n",
        "\n",
        "# looping over posts and scraping it\n",
        "for submission in subreddit.top(limit=500):\n",
        "    titles.append(submission.title)\n",
        "    \n",
        "    \n",
        "df['Title'] = titles\n",
        "\n",
        "print(titles)\n",
        "#print(df.shape)\n",
        "#df.head(300)"
      ],
      "metadata": {
        "colab": {
          "base_uri": "https://localhost:8080/"
        },
        "id": "byFPhuWxDqJS",
        "outputId": "3fb35c73-102f-4375-cb6c-fb4ac241b590"
      },
      "execution_count": null,
      "outputs": [
        {
          "output_type": "stream",
          "name": "stderr",
          "text": [
            "It appears that you are using PRAW in an asynchronous environment.\n",
            "It is strongly recommended to use Async PRAW: https://asyncpraw.readthedocs.io.\n",
            "See https://praw.readthedocs.io/en/latest/getting_started/multiple_instances.html#discord-bots-and-asynchronous-environments for more info.\n",
            "\n",
            "It appears that you are using PRAW in an asynchronous environment.\n",
            "It is strongly recommended to use Async PRAW: https://asyncpraw.readthedocs.io.\n",
            "See https://praw.readthedocs.io/en/latest/getting_started/multiple_instances.html#discord-bots-and-asynchronous-environments for more info.\n",
            "\n",
            "It appears that you are using PRAW in an asynchronous environment.\n",
            "It is strongly recommended to use Async PRAW: https://asyncpraw.readthedocs.io.\n",
            "See https://praw.readthedocs.io/en/latest/getting_started/multiple_instances.html#discord-bots-and-asynchronous-environments for more info.\n",
            "\n",
            "It appears that you are using PRAW in an asynchronous environment.\n",
            "It is strongly recommended to use Async PRAW: https://asyncpraw.readthedocs.io.\n",
            "See https://praw.readthedocs.io/en/latest/getting_started/multiple_instances.html#discord-bots-and-asynchronous-environments for more info.\n",
            "\n",
            "It appears that you are using PRAW in an asynchronous environment.\n",
            "It is strongly recommended to use Async PRAW: https://asyncpraw.readthedocs.io.\n",
            "See https://praw.readthedocs.io/en/latest/getting_started/multiple_instances.html#discord-bots-and-asynchronous-environments for more info.\n",
            "\n"
          ]
        },
        {
          "output_type": "stream",
          "name": "stdout",
          "text": [
            "['Wtf Siri?!', 'Meme', 'Randomly asked Siri to split a bill for me. Pretty cool.', 'You’re welcome', \"Siri, that's not math.\", 'Siri just Rick rolled me', 'Siri Is Learning Taiwanese – Apple is hiring an engineer to program Siri to “speak” Taiwanese.', 'Thanks Siri, as helpful as ever', 'Asked Siri on my watch to tell me a joke...', 'A wholesome Siri', 'Interesting; anyone with a subscription who can confirm this promise?', '\"Hey Siri, how do you spell fifteen?\"', 'I found out about Siri’s birthday in a random way, I was asking because I have an assignment to be done in 15 days', 'Thank you Siri...', 'Exactly', 'You can ask Siri for a saved password!', 'Haha, nice one!', 'Just realised Siri is much more advanced than I thought it was', 'Hey Siri, moan', 'Siri is having a literal day', 'Any reason this would happen? Kinda frustrating...', 'Siri knows her memes', 'Siri r u okay?', 'Interesting', 'Attitude not appreciated', 'Siri having a meltdown', 'Ask Siri today, \"What are you doing?\" or \"What\\'s up\" and she gives you a free copy of Frankenstien audio book on Apple Books.', 'Siri agrees', 'Siri, do you have any secrets?', 'Siri successfully predicted what I was going to do last night. After leaving a friends house I always message my Wife I’m on my way then stop in for a frozen coke at McDonald’s next to his place.', 'answer the question siri', 'I know Siri is Dumb, but this is a new level of stupid.', 'Just got siri to repeat after me.', 'What the...', 'I asked Siri \"what are you doing?\" She replied \"I\\'m at work. My shift ends in 614977 days.\" If anything, it\\'s May 12, 3704. Is that a hunt? Or a reference to something? I\\'ll be glad to hear your opinion.', '“I’m sorry Dave, I’m afraid I can’t do that.”', 'How American is Siri? Siri:', 'I must say, Siri is good at imparting life lessons', 'Woke Siri up by mistake and proceeded to curse it for waking up. Felt bad and said sorry. I think it tricked me.', 'Siri cannot do basic currency conversion. I be really think that this is something she should be able to do.', 'Siri wants to stay pure.', 'She knows what we want', 'Siri got me ded', 'Slow siri on ios14?', 'Oh then', 'Siri swore at me', 'Hahaha', 'Nice bit of honesty from Siri', 'Looks like Siri just had a major meltdown 😂', 'Siri adds emojis when asked to remind me to go jogging', 'I’m so done', 'It’s 6:23 a.m. send help.', 'Ummmmmmmmmmm ok Siri', 'Siri Advent Caleder', 'April fools message.', 'Why does my girlfriends Siri sound like this?!', 'Found a super cool feature demonstrating Siri’s intelligence!', 'Uh oh...', \"just jailbroke phone - Siri addon tells jokes, this one wasn't bad (I thought)\", 'Hey Siri?? You doing good?', 'HomeKit Light Color Siri Control Broken For Months Now (iOS 14.1)', 'The answer is in the almighty almond', \"I'm done with Siri.\", 'Bilingual Siri!? She suddenly started giving directions in Franglais (English/French) with a super French Quebec accent. It was awesome but we can’t seem to get her back. Has this happened to anyone?', 'I so this happened', 'Hey Siri', 'I asked Siri for my horoscope… so sassy', 'Here are some of the responses for Siri’s 10th birthday', 'I wish I could have this be a thing natively without having to use Shortcuts - it’d be useful to know when I have enough charge to continue my day', 'Totally what I asked for! Thanks Siri!', 'What a contrary bitch.', 'Ah yes, Replace, my favorite language.', 'I got the same answer for every film in the series except Dark Fate', 'Fuck you too, Siri', 'The ultimate betrayal', 'Random', 'WHAT THEًً…………', 'I told Siri I was stoned', 'Found a bug with English Siri - *Warning this is stupid and you will waste 1min 32sec of your life but I had to share*', 'POV: you are trying to annoy Siri but he/she is annoying you:', 'Oh.........ok', \"Still doesn't work on MacOS\", 'I used Siri to make a shopping list. Can you figure out what the last item is supposed to be, your guess is as good as mine.', 'I said Siri’s joke wasn’t very funny. This is what she said back.', 'Why is this so funny to me', 'Siri can just be amazing sometimes', 'Apple, please hire this guy! (iOS Concept)', 'Asked Siri to rap she gave me a cool verse', 'Shes finally ready for the audit', 'Sleepiness', 'Siri trying to be funny', 'Siri suggests me to use Google Assistant 😅', 'Is there a joke I’m missing here?', \"Is Siri getting smarter? I asked Siri to remind something in the morning and didn't realize it was already past midnight. Siri asked to confirm if I meant the same day or the next day.\", 'Siri on fire', 'Siri’s scary story', 'Nice discovery for me. Pressing and holding on a specific message and then asking Siri to be reminded of it, creates a reminder. I know she can make reminders based off of stuff on your screen, but didn’t know it had the ability to be this specific. (iOS 14.5 Dev Beta 3)', 'TIL I could ask Siri, “I want to read Goldilocks and the Three Bears,” and it brought up a mini Choose Your Own Adventure', 'Not now, but soon.', 'What are the odds in this happening?', \"Siri is sometimes smart, when I'm not.\", 'She Actually Sounds Like Siri', 'HOW TO SIRI.pdf a little ebook I wrote. Merry Xmas.', 'Why', \"'Hi, Seeley.' triggered Siri whilst I was watching Bones. 😅\", 'Ask Siri to tell you a poem', 'Life is a long road', 'Caught Siri in a lie', 'Is this “related questions” thing new? I can’t find info on it anywhere...', 'i asked siri if she follows the three laws of robotics and this is her responce', 'Just asked my Siri to tell me a knock knock joke. I officially hate Siri and love Siri', 'Siri can calculate tip percentages super quickly', 'Siri, tell me a joke about Chris Brown and Rihanna...', 'When Siri makes no sense', 'Siri has unfortunately died on older iOS versions :c (iOS 6.1.3 Patched and iOS 8.4.1)', 'I’m scared', 'I uh I found a thing and I’m scared', 'Fun Fact/ Easter Egg!!', 'Listening to Spotify with my AirPods and I ask Siri to restart a song and it used to work.... now it doesn’t.', 'Just found this out and thought to post it here!', 'Does iPhone devices silently communicate together to let only one Siri speak ?', 'And I thought this joke was dead', 'How long since 10 seconds ago', 'Oh', 'Who else got the invite?', 'I thought Siri could do this. But she can’t.', 'Siri stuttered and apologized when replying', 'Telegram becomes first 3rd party app to Announce Messages', 'Apple refining Siri to cut down on mistaken activations, and to draw less power', 'I just discovered Apple produces a daily news podcast', 'Well that year was rough-', 'Wow, this sentence Siri caught me saying makes no sense... 😂😂😂', 'In less than a month Siri turns 8.', 'Thanks a lot Siri... real helpful.', 'Got downvoted on r/iphone maybe r/siri would appreciate this', 'When you’re stuck in a Siri #Matrix.', 'omg, try this. #ironman', 'Tap the back of your iPhone to activate handy shortcuts in iOS 14', '(Running iOS 14 public beta 5) If you ask Siri to tell you a joke and then say something like, “Thanks, that was really funny!” Siri will respond by saying, “Thanks! I’ll be here all week. Wanna hear another one?” And then prompt you to answer.', 'Every time I ask Siri when the first day of summer is she answers this ???', 'I ask Siri to \"find a random point on maps\" and she always comes up with this. No info about it online.', 'It’s been a long time since I asked Siri this, wasn’t expecting that.', 'Siri whats my name, but you asked me to call you aaaaaaaaaaaaaaaa', \"Okay I'm gonna be honest I didn't think Siri was gonna get that\", \"Hello Siri! It's me, the Womenizer 😅\", 'It made me remember my gf😅😂😂', 'Siri has mad nudes', \"Well, someone's sassy!\", 'Got into an argument with my family. Accidentally pressed on the home button on my iPhone and got a very harsh reply from Siri.', 'Am I the only one that treats voice assistants like assistants?', 'Say what?', 'Siri can now control Location Services', 'Halloween Beatbox', 'Siri in iOS14 is the worst.', 'Say “Banana”', 'A helpful feature I didn’t realize Siri could do!', 'HE HAS BECOME SENTIENT', 'I love siri', 'I’ve been using them in the bath :/', 'Glad I can always count on you, Siri!', 'Told Siri to “take me to a waterfall”. A 40 minute drive, and 5 mile hike later and this is where I ended up <3', 'Fukin Siri...', 'Her new voice is actually really nice to listen to', 'I GOT HER TO SWEAR', 'Come on Siri, not that Apple.', 'Siri being wholesome', 'This is a new one.', '🗿', 'Fired up Siri on my old iPhone 4S and forgot how horrible it was before.', 'Fist post here, so not sure if this has been done before.', 'This applies to all ai assistants', 'Siri always comes through', 'Netflix and chill with Siri', 'For all you Linux geeks', 'Testing the limits of what Siri will call you', 'Oh, Siri', 'Oh Siri..!', 'Finally with iOS 15 you can use siri to set the on and off times of HomeKit devices!', 'I feel like Siri must be mad at me about something. I definitely didn’t say any of these words when doing voice-to-text.', 'A feature I would love if there’s anyone at Apple listening. I think so many people would appreciate this. Hey Siri remind me when it’s 2 o’clock in Los Angeles or any city.', 'Ask Siri “what version iOS”', 'The latest Spotify beta finally lets you play music via Siri!', 'I just asked what 0 divided by 0 was...', 'Siri can take any compliments.', 'Lol', 'Good Answer', 'Mother fricker', 'My favorite Siri joke thus far....', \"She's probably not kidding..\", 'I might have found a small Siri Easter egg?', 'I may have teared up...', 'Exactly.', 'Well..😀', 'The Taphouse is Really Busy…. But here’s what Siri heard. Had to send it “as is.”', 'I didn’t know Siri could stutter and then loose his words. Try it yourself in iPadOS 14.5 it’s with the new male Siri voice. “When was Queen Elizabeth born?” For some reason it struggles with the year. (1926)', 'Midwest Siri', 'Siri more buggy for anyone else recently? Was trying to get Siri to text my father while driving and she insisted I unlock my phone, which you can see it is, and it shouldn’t need to unlock to send a text...', 'Weird flex but ok. TRANSLATION: + Hey Siri, is it gonna rain this night? - Looks like it’s not going to rain this night in Madrid.', 'Can you read me a bedtime story?', 'Is this for real? Lol', 'Thanks, very helpful', 'I’m not mad though', 'So helpful', 'I asked Siri about the best smartphone.', 'I forgot what I wanted to dictate', 'She actually smart now? 🤣😂🤣', 'Every single time.', 'I think I’m stuck in a time loop', 'Probably the saddest response done by Siri, ever.', 'When siri has adhd', 'Just wanted to know what song was playing, Siri turned smartass.', \"It's insane that Siri can't do something so simple.\", 'At least it didn’t search the web!', 'Apparently I own Apple now', 'Siri cannot calculate time. I tried asking 5 different ways...', 'Siri confusing summer and winter. iPhone 11 on iOS 13.7', 'Jackcjj', 'I allways used siri as calculator. But today she refused.', 'I love the new story feature!', 'Can anyone explain this?', 'Got ‘em', 'Of course.', 'Lol Did They Change This (FireTrucks)', 'Am I the only one that yells out \"Hey Siri\" in a dark room so that I don\\'t have to fumble around looking for my phone?', 'That would make a cute couple', 'Siri is simply a disappointment at this point', 'Siri was actually useful for once.', 'Uh, what?', 'Why is Siri so dumb when it comes to Apple Music?', 'Siri will puse after receiving a command. I will say “Hey Siri, play previous track.” And Siri says “Okay, going back.” and then doesn’t actually go back.. it gets stuck on this part.', 'No sports results?', 'Taken today. Calendar goof up, or Siri insidiously trying to make me forget to cancel a subscription in November?', 'Anyone else getting these really wierd Siri suggestions? The websites are non existent, just goes to a dead page “Safari could not open the page because it could not connect to the server”', 'Just switched to Spotify. How do I make Siri play MY playlists instead of random stuff?', 'Apple’s Siri voice assistant now provides coronavirus advice', 'It must take some real skills to code something as bad as this...', 'Ask Siri “What’s infinity times infinity?”', 'Thanks for reminding me, siri', 'Impossible for Siri to add \"Swiss cheese slices\" to my shopping list.', 'What just happened', 'Siri Being Funny', 'I wanted a song for my 1-year old daughter to dance to, but I guess Siri thinks I’m a DJ at the Gold Club.', 'When you just need to know why firetrucks are red', 'Trolling siri.', \"Go home Siri, you're drunk.\", \"Siri failed so bad it's funny\", 'Siri, you smug bitch. ', 'After upgrading iOS 15, Siri can no longer rate Apple Music songs', 'I love Squid Game. Watched the show over and over many times. Sitting at the TV rewatching the 1st episode and during the “Fly Me To The Moon” scene accidentally pressed iPhone home button. Here’s the result!', 'Siri answers volume questions with ease.', 'I would like to change \"Hey Siri\" to \"ZHU LI!\" Is this possible? If not, why not????', 'Can I stop Siri from confirming when a command is accomplished?', 'I might not know everything about the solar system but this is clearly not correct Siri', 'Thanks Siri!', 'My friend sent me this', 'WHO EATS A BOX?', 'Siri actually being useful! First time seeing an example of this.', 'Why is Siri doing this?', 'um, thanks.', 'Interesting choice, Siri', 'Stop being creepy Siri', 'Hey alexa', 'Siri’s making moves!', 'Well screw you siri', 'Didnt know siri could do this', 'Differences between English and Russian Siri', '“Say” what?! Anybody else have this issue? Seems to only happen using CarPlay', 'Does anyone else find Siri is comically awful at interpreting numbers with decimals?', 'I wrote an ebook guide about what I’ve learned of Siri & shortcuts. You guys think that’d be something people need? You all are way more advanced than me. I wrote this for the regular guy/girl/other to realize there’s genius in our hands and how to get started. Mainly for small business owners.', 'Is anyone else getting a black square on their Siri text box?', 'I asked Siri to scare me, and she did.', 'Siri doesn’t add a time to reminders when I specify a time? This exact request works on my friends phone (both iPhone XS)', 'She knows.', 'Really? lol', 'TIL in 2003 there was an episode of “What’s New Scooby-Doo” featuring a home automation virtual assistant called Shari, which aired 8 years before the introduction of Apple’s Siri', 'Sing a song', 'When Apple wants you to stay inside', '#ConsiderateSiri', 'Oml', 'Thanks, Siri', '5 Days until Siri’s “Birthday”', 'Siri is a jokester', 'Siri CPR support', 'Ask Siri this u will get a lot af answer this is mine', 'O H W O W', 'Dont’t be rude to Siri...', 'Awesome; thanks Siri!', 'Siri rounds \"46 days\" to \"one month\"', 'I asked her the woodchuck tongue twister about 5 time before she told me this:', \"Siri didn't hear the last word I said, and got very persistent.\", \"Someone's a bit touchy\", 'Siri being Siri', 'Beta: Siri on HomePod reports that the answer is on the display', \"Why is Siri asking if I want to edit my alarm? Is it possible she's thinking I won't have to wake up for work this morning because it's a holiday? I've never seen this before.\", 'Lol', 'Apple launches “Siri Speech Study” App to improve Siri voice assistant', 'Took Siri more than 30 seconds to NOT answer my question', 'Siri on macOS Big Sur. I wanted to see if an alarm was possible, it’s not. So she asked to set a reminder, but when I ‘named’ the reminder, she says there’s no app.', 'Damn, rejected...', 'My mom’s name in my phone is “Mom E.” since our last name starts with an “E”', 'Siri rapping.... I think', 'Check your math, Siri!', 'Apple, it’s 2020.', 'What do you use Siri for?', 'Has anyone else’s Siri said this or anything like it? She misheard my question—clearly—and said this. I’ve been trying to get her to say it again, and nothing.', 'Siri’s just like any other virtual assistant', 'Siri is genderless, I guess....', 'help my brain hurts', 'Not quite what I wanted Siri', 'Siri horror picture show', 'I just wanted to call my mom', 'Are you sure about that Siri?', 'Siri doesn’t appreciate abuse', \"Ayy Siri thanks! Didn't expect that to work\", 'So I recently got a google home. Been accidentally calling it Siri. Here’s my Siri’s response ...', 'Case & point!', '— Hey Siri, how many kids do you have in your basement? — As far as I know, zero.', 'What is it? 2007?', 'I have an accessibility button. One is the lock screen option. I long pressed it as something caught my eye as I about to lock. Siri came up with a rap?? Now every time I long press it Siri raps. I’m so confused.', 'Is this working for anyone? “Hey Siri, Remind me to call contact.” Can’t get this to work anymore.', 'Siri not finding songs? A bug again?', 'Why?', 'Is Siri getting dumber over time?', 'I have a gambling addiction', 'I asked Siri the \"name of the president of Brazil\". Reply : \"the president of China is Jair Bolsonaro\"...', 'i see a little silhouetto of a man', 'Alright...', 'Siri does like to divide by 0', 'Siri reminders defaulting to Target app. How do I get it to use the Reminders app like it used to?', 'Sir is such a math Genius!', 'oh', 'It can speak?', 'Yummy :)', 'So, yeah. What’s up with Siri lately?', 'Siri Slow with Apple Music', 'Siri knew I was at the Dead Sea, the lowest point on Earth.', 'I asked Siri when is the end of the world she replied this', 'Aye...', 'Really Siri? Really?', \"Go home Siri, you're drunk.\", 'Funny Siri bedtime story.', \"Because they're so alike.\", 'Bullshit.', 'Philosophical Siri', 'Siri talking dirty', 'Siri holding me hostage', 'Apple Music is testing Siri Picks: Personalized music recommendations', 'has Siri gotten dumber lately??', 'Liar liar pants on fire', 'Ignoring my poor music taste, how can Siri be this flawed?', 'New voices with iOS 14.5', 'Disturb Mode 😳', 'HELP! Siri plays music videos instead of the song whenever I ask “Hey Siri play...”', 'I’ve asked him heads or tails hundreds of times. Didn’t even know this could happen', 'What exactly is happening here... trying to set up shortcuts to set brightness to 0%, and Siri thinks this is 0%', 'Listen, screw it, it’s after dark (where I am), It’s Saturday, the world’s on fire, I’m a little drunk, a little stoned (possibly a fair bit crossfaded), but I’ve never wanted to fuck a piece of software more than I did in this moment.', 'Siri roasted me', \"Is leaving the phone plugged in when it's at 100%/charging it overnight good for the battery?\", 'You can’t make this up.', 'My cousin was playing ball with siri...', 'Siri apparently has a dedicated UI to split checks', 'sure...', 'Never seen this before.', 'So are they playing or not?', 'Siri Beats Alexa and Cortana in 800 Question Test', 'I asked Siri to sing to me lol', 'He’s an intelligent assistant!', 'Just a perky ‘yes I can!’ would have been fine too', 'Valar morghulis, siri.', 'I said \"timer for 20 minutes\" and then...', \"I think she's doing it on purpose.\", 'TIL why Siri keeps activating whenever I order food in the Taco Bell drive-thru', 'Monty Python fans will get it', 'I guess I made some pocket searches and Siri knows what I need.', 'Siri says I can ask \"how fast is my Mac?\" I ask it, then she says \"I\\'m sorry, I can\\'t do that.\" WTF?', '[iOS 15.1, iPhone 11] Siri sounds different (low quality, muffled) when Low Power Mode is enabled.', 'I loved Siri before iOS 15', 'It seems like everyone’s having problems with Siri.', 'Siri using wrong plurality and it’s driving me nuts', 'Matthew Cassinelli - 300 Siri Shortcut Catalogue', 'Why can I sometimes not correct dictation? I select the blue underlined word, but I often only see the copy/paste options, etc.', 'Try telling Siri “Siri sucks “', \"Why won't Siri listen sometimes?\", 'AirPods 1st Gen - Siri read out text message, despite being unsupported', 'Siri responses to phone video 😛', 'Is this normal after 2 months of usage? (Iphone XS)', 'Siri used to say Hmmmm after I said the key words and now she doesn’t. Does anyone know how to fix this?', 'Sometimes Siri is wrong about Christmas stuff.', 'Wow!', 'Beats by Dre Solo Pro: Apple noise-canceling headphones with Hey Siri', 'Do you like dogs?', 'I changed my wife’s name in my contacts, and Siri got stuck with her previous info. How can I teach her the new association?', \"Apple contractors 'regularly hear confidential details' on Siri recordings | Technology\", 'Thanks Siri.....', 'oh okay do what you want', 'I needed to post this as a way of coping with the ridiculousness of Siri', 'Uuuhhh ok Siri', 'Yeet', 'Oh, Siri', 'When Siri calls you Senpai', 'Siri doesn’t know the difference between since and until', 'Join The Battle For Net Neautrality!', 'Did anyone encounter this? 🤔🤔🤔', 'If you ask Siri if she can sing Row, Row, Row Your Boat she will recite part of \"If I Only Had a Brain.\"', \"Siri wouldn't have been much help to Harry Potter.\", 'My wife yelling at our dog for running away but Siri thought she was talking to her', 'I said \"Ok Google\" to Siri. She did not take it well.', 'Siri... You had ONE JOB!!!!', '2deep4me', \"Am I fucking stuttering? Am I not speaking the correct language??? (It's Sunday btw)\", 'How many people use Siri to define words?', 'Siri not responding properly after iOS 14.5.1', 'Can you ask Siri to do a conference call ( calling two people at once and doing a merge call)?', 'Siri got way dumber about alarms a couple of days ago', 'Asked Siri to create a reminder every weekday, now she will remind me on Sunday.', 'Oh no what has siri done?', 'I bought iPhone 11 Pro 4 months ago. My battery has degraded to 92%. I’m using the authentic charger. What could be the problem?', 'Siri suggestion every night at 9pm...why?!', 'Lmao!', 'MGK is the oldest person alive.', 'Siri knows something we don’t....', '42', 'I don’t... how do I respond to this??', 'Screw you you judgemental asshole', 'Nice Unicode Siri.', 'Siri can’t call any number that has 22 at the end of it.... this seems pretty stupid to me.', 'thanks siri', 'Thanks Siri, that’s precisely what I was asking for.', 'Thanks, Siri.', 'I think Siri is a bit too particular about what she considers nice weather...', 'i asked siri to call 911 and got no response. if you’re in danger siri will be the last person to help you', 'All of Siri\\'s responses to \"Laurel or Yanny?\"', \"Siri in the '80s | @joluijten\", 'Idea - “proactive” Siri', 'Looks like Siri is hiding something', 'Early morning Siri chat', 'I mocked my cat while Siri was on...', 'Siri on the Mac turns the fans off while listening', \"Just kidding...it's 28°F outside\", 'Siri being supportive of our decisions', 'What the hell Siri...', 'OMG! Me too', 'Siri forgot the question', 'She has different answers for:', 'Why wont he love me?', 'Apple’s Siri will have a neutral voice: neither male nor female', 'I don’t like how I can’t say hey Siri to my phone without the HomePod butting in. Can they have different frickkn names?', 'fun fact : did you know that siri censors bad words ?', 'Apple TV (aka the Siri Remote) feels far superior to Siri on iOS', 'I could use my iphone while siri was on (more info in comment)', 'Kathy, not Cathy', 'Siri very slow', 'Siri now won’t play any of my playlists', 'Can I turn this feature off?', 'Good night, room. Good night, moon.', 'Siri lacks performance with HomeKit', \"You'll soon be able to ask Siri to play sounds of animals, vehicles, and more\", 'Damn bruh, siri got pissed.', 'Siri in 13 seconds', 'Savage mom', 'What does she say at the end?', 'Apple Bedtime Siri', 'Why are other people able to use my Hey Siri?', 'I made Siri read the “downvote” copypasta. Feel free to use this.', 'How do fix this bullshit?', 'Happy birthday Siri! 🎁🎉🎈🎂🎊', 'Tried to ask what the name Hal is short for but she is obviously still traumatized', 'I was asking random questions then this came up', \"Experienced a bug in Siri? Please report it to Apple to help get it fixed for everyone! This applies if you're running a non-beta iOS, too.\", 'Telling Siri “18” calls the emergency services.. in 3 2 1', 'Siri Intelligence - Getting to the Airport', 'Really Siri? Really?', 'Thanks Siri', 'Rick Rolling', 'If you ask Siri, \"What is inifinity divided by zero?\" she will ask you to repeat the question ad infinitum.', 'Wondered what the date was of a photo on Facebook that said it was from 158 weeks ago that day. Within a split second I got the answer. Interesting.', 'My Mother Talks to Siri More Than She Talks to Me, And I’m Ok With It.', 'Check out r/Shortcuts for any help or questions regarding Shortcuts in iOS 12.', 'Heh', 'This is embarrassing', 'Tell me a joke...', 'Is Siri trolling me?', 'Thanks for the weather?', 'My 4 year old son glitched out Siri', 'How long to get to Mars?!?', 'What? Siri no I said Doctor!', 'Why does Siri call me \"Dick Sucker\"?', \"Siri isn't much of a singer.\", 'Yo', \"Siri didn't like me\", \"I don't trust this...\", \"Siri knows what's up\", 'I guess that answers my question Siri.', \"Siri suggestions on lock screen. Nothing works. I can't do anything\", \"Am I the only one who's getting weird siri responces?\", 'Is siri acting slow/unresponsive for you on non-phone devices?', 'Did iOS 15 break Siri?', 'Are these two countries no Flag？', 'Why is Siri so dumb? The software can’t even handle the most basic commands. I said “Siri, show me the forecast” and it thinks to play the song Forecast by KILLY. Or when I say “restart the timer,” it just shows the amount of time left than actually restarting it..', 'Why is Siri so useless?']\n"
          ]
        }
      ]
    },
    {
      "cell_type": "code",
      "source": [
        "pos_count= 0\n",
        "neg_count= 0\n",
        "neutral_count= 0\n",
        "\n",
        "for text in titles:\n",
        "  #print(text)\n",
        "  p = model.predict(vec.transform([text]))\n",
        "  if p == 1:\n",
        "    pos_count = pos_count + 1\n",
        "  elif p == -1:\n",
        "    neg_count = neg_count + 1\n",
        "  else:\n",
        "    neutral_count = neutral_count + 1\n",
        "\n",
        "print(\"postive  =\", pos_count)\n",
        "print(\"negative =\", neg_count)\n",
        "print(\"neutral =\",neutral_count)"
      ],
      "metadata": {
        "colab": {
          "base_uri": "https://localhost:8080/"
        },
        "id": "g1xnr-JjDqW6",
        "outputId": "30738591-d431-4518-ff0c-29dcc594e242"
      },
      "execution_count": null,
      "outputs": [
        {
          "output_type": "stream",
          "name": "stdout",
          "text": [
            "postive  = 335\n",
            "negative = 72\n",
            "neutral = 93\n"
          ]
        }
      ]
    }
  ]
}